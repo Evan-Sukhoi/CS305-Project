{
 "cells": [
  {
   "cell_type": "markdown",
   "metadata": {
    "collapsed": false
   },
   "source": [
    "In the project, the majority of tasks will undergo script testing, with only a few being reviewed by the TA. Be aware that this testing material is not final and cannot cover all testing scenarios. If you are caught cheating during testing, the whole group will receive a score of 0 for the project."
   ]
  },
  {
   "cell_type": "markdown",
   "metadata": {
    "collapsed": false
   },
   "source": [
    "The script checks using the requests library in Python. Before testing, ensure that the server has three users with the usernames \"client1\", \"client2\", and \"client3\", and the passwords \"123\". In the upcoming tests, if the Authorization field is needed, use \"client1\" and \"123\" as both the username and password."
   ]
  },
  {
   "cell_type": "code",
   "execution_count": 16,
   "metadata": {
    "collapsed": false,
    "ExecuteTime": {
     "end_time": "2023-12-29T12:21:03.451533700Z",
     "start_time": "2023-12-29T12:21:03.443554500Z"
    }
   },
   "outputs": [],
   "source": [
    "import requests"
   ]
  },
  {
   "cell_type": "markdown",
   "metadata": {
    "collapsed": false
   },
   "source": [
    "The initial check is the head request, a fundamental job of the server is to respond to the request. Use the \"headers\" parameter for logging into the server. Disregard this parameter if the server lacks the login feature."
   ]
  },
  {
   "cell_type": "markdown",
   "metadata": {},
   "source": []
  },
  {
   "cell_type": "code",
   "execution_count": 17,
   "metadata": {
    "collapsed": false,
    "ExecuteTime": {
     "end_time": "2023-12-29T12:21:08.914353400Z",
     "start_time": "2023-12-29T12:21:06.775329900Z"
    }
   },
   "outputs": [
    {
     "name": "stdout",
     "output_type": "stream",
     "text": [
      "<Response [200]>\n"
     ]
    }
   ],
   "source": [
    "headers={\"Authorization\": \"Basic Y2xpZW50MToxMjM=\"}\n",
    "q=requests.head('http://localhost:8080/',headers=headers)\n",
    "print(q)"
   ]
  },
  {
   "cell_type": "markdown",
   "metadata": {
    "collapsed": false
   },
   "source": [
    "Test get request"
   ]
  },
  {
   "cell_type": "code",
   "execution_count": 18,
   "metadata": {
    "collapsed": false,
    "ExecuteTime": {
     "end_time": "2023-12-29T12:21:42.105864800Z",
     "start_time": "2023-12-29T12:21:40.013024Z"
    }
   },
   "outputs": [
    {
     "name": "stdout",
     "output_type": "stream",
     "text": [
      "<Response [200]>\n"
     ]
    }
   ],
   "source": [
    "headers={\"Authorization\": \"Basic Y2xpZW50MToxMjM=\"}\n",
    "q=requests.get('http://localhost:8080/',headers=headers)\n",
    "print(q)"
   ]
  },
  {
   "cell_type": "markdown",
   "metadata": {
    "collapsed": false
   },
   "source": [
    "Test post request"
   ]
  },
  {
   "cell_type": "code",
   "execution_count": 19,
   "metadata": {
    "collapsed": false,
    "ExecuteTime": {
     "end_time": "2023-12-29T12:21:53.848561500Z",
     "start_time": "2023-12-29T12:21:51.696616400Z"
    }
   },
   "outputs": [
    {
     "name": "stdout",
     "output_type": "stream",
     "text": [
      "<Response [405]>\n"
     ]
    }
   ],
   "source": [
    "headers={\"Authorization\": \"Basic Y2xpZW50MToxMjM=\"}\n",
    "q=requests.post('http://localhost:8080/',headers=headers)\n",
    "print(q)"
   ]
  },
  {
   "cell_type": "markdown",
   "metadata": {
    "collapsed": false
   },
   "source": [
    "Next, we will provide test examples based on the chapters in the project documentation. Each test is accompanied by a output. We do not check exact string matches for your output, as long as you complete the corresponding task.\n",
    "\n"
   ]
  },
  {
   "cell_type": "code",
   "execution_count": 20,
   "metadata": {
    "collapsed": false,
    "ExecuteTime": {
     "end_time": "2023-12-29T12:21:59.811580800Z",
     "start_time": "2023-12-29T12:21:59.652006200Z"
    }
   },
   "outputs": [
    {
     "name": "stdout",
     "output_type": "stream",
     "text": [
      "<Response [200]>\n",
      "<Response [200]>\n"
     ]
    }
   ],
   "source": [
    "#1.1\n",
    "headers={\"Authorization\": \"Basic Y2xpZW50MToxMjM=\"}\n",
    "session = requests.Session()\n",
    "session.headers.update({'Connection': 'keep-alive'})\n",
    "\n",
    "response1 = session.get('http://127.0.0.1:8080',headers=headers)\n",
    "response2 = session.get('http://127.0.0.1:8080',headers=headers)\n",
    "\n",
    "print(response1)\n",
    "print(response2)\n"
   ]
  },
  {
   "cell_type": "code",
   "execution_count": 21,
   "metadata": {
    "collapsed": false,
    "ExecuteTime": {
     "end_time": "2023-12-29T12:22:06.770436100Z",
     "start_time": "2023-12-29T12:22:06.478541200Z"
    }
   },
   "outputs": [
    {
     "name": "stdout",
     "output_type": "stream",
     "text": [
      "<Response [200]>\n",
      "<Response [200]>\n"
     ]
    }
   ],
   "source": [
    "#1.2\n",
    "#1.1\n",
    "headers={\"Authorization\": \"Basic Y2xpZW50MToxMjM=\"}\n",
    "session1 = requests.Session()\n",
    "session1.headers.update({'Connection': 'keep-alive'})\n",
    "session2 = requests.Session()\n",
    "session2.headers.update({'Connection': 'keep-alive'})\n",
    "\n",
    "response1 = session1.get('http://127.0.0.1:8080',headers=headers)\n",
    "response2 = session2.get('http://127.0.0.1:8080',headers=headers)\n",
    "\n",
    "\n",
    "print(response1)\n",
    "print(response2)\n"
   ]
  },
  {
   "cell_type": "code",
   "execution_count": 22,
   "metadata": {
    "collapsed": false,
    "ExecuteTime": {
     "end_time": "2023-12-29T12:22:19.522188500Z",
     "start_time": "2023-12-29T12:22:14.680622500Z"
    }
   },
   "outputs": [
    {
     "name": "stdout",
     "output_type": "stream",
     "text": [
      "<Response [200]>\n",
      "<Response [401]>\n"
     ]
    }
   ],
   "source": [
    "#1.3\n",
    "headers1={\"Authorization\": \"Basic Y2xpZW50MToxMjM=\"}\n",
    "headers2={}\n",
    "q=requests.head('http://localhost:8080/',headers=headers1)\n",
    "print(q)\n",
    "q=requests.head('http://localhost:8080/',headers=headers2)\n",
    "print(q)"
   ]
  },
  {
   "cell_type": "code",
   "execution_count": 23,
   "metadata": {
    "collapsed": false,
    "ExecuteTime": {
     "end_time": "2023-12-29T12:22:52.489972400Z",
     "start_time": "2023-12-29T12:22:52.379263400Z"
    }
   },
   "outputs": [
    {
     "name": "stdout",
     "output_type": "stream",
     "text": [
      "<Response [200]>\n",
      "['a.py', 'a.txt', 'client1/', 'client2/', 'client3/', 'resource/', 'test.py', 'test1/', 'test_encryption.txt']\n"
     ]
    }
   ],
   "source": [
    "#2\n",
    "url1='http://127.0.0.1:8080/?SUSTech-HTTP=1'\n",
    "\n",
    "headers={\"Authorization\": \"Basic Y2xpZW50MToxMjM=\"}\n",
    "r=requests.get(url=url1, headers=headers)\n",
    "print(r)\n",
    "print(r.content.decode())\n"
   ]
  },
  {
   "cell_type": "code",
   "execution_count": 24,
   "metadata": {
    "collapsed": false,
    "ExecuteTime": {
     "end_time": "2023-12-29T12:23:06.301520900Z",
     "start_time": "2023-12-29T12:23:06.197658300Z"
    }
   },
   "outputs": [
    {
     "name": "stdout",
     "output_type": "stream",
     "text": [
      "\n",
      "    <!DOCTYPE html>\n",
      "    <html lang=\"en\">\n",
      "    <head>\n",
      "        <link rel=\"stylesheet\" href=\"/resource/styles/fileList.css\">\n",
      "        <meta charset=\"UTF-8\">\n",
      "        <title>Directory listing for data\\</title>\n",
      "    </head>\n",
      "    <body>\n",
      "        <h1>Directory listing for data\\</h1>\n",
      "        <hr class=\"separator\">\n",
      "        <a href=\"/\" class=\"navigation-link\"><img src=\"/resource/icons/home.png\" width=\"20\" height=\"20\">/</a>\n",
      "        <a href=\"/\" class=\"navigation-link\"><img src=\"/resource/icons/go-back.png\" width=\"20\" height=\"20\">../</a>\n",
      "        <hr class=\"separator\">\n",
      "\n",
      "    <table>\n",
      "        <tr>\n",
      "            <th>File Name</th>\n",
      "            <th>File Type</th>\n",
      "            <th>Last Modified</th>\n",
      "            <th>Size</th>\n",
      "            <th>Delete<th>\n",
      "        </tr>\n",
      "    <tr><td><a href=\"/a.py\"><img src=\"/resource/icons/py.png\" width=\"20\" height=\"20\">a.py</a></td>\n",
      "<td>Python</td><td>2023-12-27 23:23:39</td><td>20 B</td></tr>\n",
      "<tr><td><a href=\"/a.txt\"><img src=\"/resource/icons/txt.png\" width=\"20\" height=\"20\">a.txt</a></td>\n",
      "<td>Text</td><td>2023-12-27 23:23:39</td><td>18 B</td></tr>\n",
      "<tr><td><a href=\"/client1\"><img src=\"/resource/icons/file-folder.png\" width=\"20\" height=\"20\">client1/</a></td>\n",
      "<td>Folder</td><td>2023-12-29 19:55:13</td><td>20.19 KB</td></tr>\n",
      "<tr><td><a href=\"/client2\"><img src=\"/resource/icons/file-folder.png\" width=\"20\" height=\"20\">client2/</a></td>\n",
      "<td>Folder</td><td>2023-12-29 09:59:00</td><td>3 B</td></tr>\n",
      "<tr><td><a href=\"/client3\"><img src=\"/resource/icons/file-folder.png\" width=\"20\" height=\"20\">client3/</a></td>\n",
      "<td>Folder</td><td>2023-12-29 17:49:14</td><td>0 B</td></tr>\n",
      "<tr><td><a href=\"/resource\"><img src=\"/resource/icons/file-folder.png\" width=\"20\" height=\"20\">resource/</a></td>\n",
      "<td>Folder</td><td>2023-12-29 20:17:38</td><td>16.54 KB</td></tr>\n",
      "<tr><td><a href=\"/test.py\"><img src=\"/resource/icons/py.png\" width=\"20\" height=\"20\">test.py</a></td>\n",
      "<td>Python</td><td>2023-12-27 23:23:39</td><td>69 B</td></tr>\n",
      "<tr><td><a href=\"/test1\"><img src=\"/resource/icons/file-folder.png\" width=\"20\" height=\"20\">test1/</a></td>\n",
      "<td>Folder</td><td>2023-12-29 09:59:00</td><td>9 B</td></tr>\n",
      "<tr><td><a href=\"/test_encryption.txt\"><img src=\"/resource/icons/txt.png\" width=\"20\" height=\"20\">test_encryption.txt</a></td>\n",
      "<td>Text</td><td>2023-12-29 19:57:32</td><td>5 B</td></tr>\n",
      "        </ul>\n",
      "        <hr>\n",
      "        </body>\n",
      "        </html>\n",
      "        \n"
     ]
    }
   ],
   "source": [
    "#2\n",
    "url2='http://127.0.0.1:8080/?SUSTech-HTTP=0'\n",
    "\n",
    "headers={\"Authorization\": \"Basic Y2xpZW50MToxMjM=\"}\n",
    "r=requests.get(url=url2, headers=headers)\n",
    "print(r.content.decode())"
   ]
  },
  {
   "cell_type": "code",
   "execution_count": 25,
   "metadata": {
    "collapsed": false,
    "ExecuteTime": {
     "end_time": "2023-12-29T12:23:19.452511600Z",
     "start_time": "2023-12-29T12:23:19.332517800Z"
    }
   },
   "outputs": [
    {
     "name": "stdout",
     "output_type": "stream",
     "text": [
      "sadf/sdfasdf/\r\n",
      "aaa\n"
     ]
    }
   ],
   "source": [
    "#2\n",
    "headers={\"Authorization\": \"Basic Y2xpZW50MToxMjM=\"}\n",
    "r=requests.get(url='http://127.0.0.1:8080/a.txt', headers=headers)\n",
    "print(r.content.decode())"
   ]
  },
  {
   "cell_type": "code",
   "execution_count": 33,
   "metadata": {
    "collapsed": false,
    "ExecuteTime": {
     "end_time": "2023-12-29T12:26:34.054843600Z",
     "start_time": "2023-12-29T12:26:34.004980900Z"
    }
   },
   "outputs": [
    {
     "name": "stdout",
     "output_type": "stream",
     "text": [
      "<Response [200]>\n",
      "<Response [403]>\n"
     ]
    }
   ],
   "source": [
    "#3.1\n",
    "# files = {\"firstFile\": open('tmp/a.txt', \"rb\"),\n",
    "#          \"secondFile\": open('tmp/b.txt', \"rb\"),\n",
    "#          \"thirdFile\": open('tmp/12589/hahaha.txt', \"rb\")}\n",
    "\n",
    "files = {\"firstFile\": open('tmp/a.txt', \"rb\")}\n",
    "\n",
    "data={}\n",
    "headers={\"Authorization\": \"Basic Y2xpZW50MToxMjM=\"}\n",
    "r=requests.post(url='http://127.0.0.1:8080/upload?path=client1/',data=data,headers=headers, files=files)\n",
    "print(r)\n",
    "r=requests.post(url='http://127.0.0.1:8080/upload?path=client2/',data=data,headers=headers, files=files)\n",
    "print(r)"
   ]
  },
  {
   "cell_type": "code",
   "execution_count": 28,
   "metadata": {
    "collapsed": false,
    "ExecuteTime": {
     "end_time": "2023-12-29T12:23:56.651804700Z",
     "start_time": "2023-12-29T12:23:56.511510600Z"
    }
   },
   "outputs": [
    {
     "name": "stdout",
     "output_type": "stream",
     "text": [
      "<Response [200]>\n"
     ]
    }
   ],
   "source": [
    "#3.2\n",
    "url='http://127.0.0.1:8080/delete?path=client1/a.txt'\n",
    "\n",
    "headers={\"Authorization\": \"Basic Y2xpZW50MToxMjM=\"}\n",
    "r=requests.post(url=url, headers=headers)\n",
    "print(r)"
   ]
  },
  {
   "cell_type": "code",
   "execution_count": 29,
   "metadata": {
    "collapsed": false,
    "ExecuteTime": {
     "end_time": "2023-12-29T12:24:05.997093400Z",
     "start_time": "2023-12-29T12:24:03.302475200Z"
    }
   },
   "outputs": [
    {
     "name": "stdout",
     "output_type": "stream",
     "text": [
      "2b74c144-a527-4138-af43-88c7c4c0d661\n",
      "<Response [200]>\n"
     ]
    }
   ],
   "source": [
    "#4\n",
    "url='http://127.0.0.1:8080/'\n",
    "\n",
    "headers={\"Authorization\": \"Basic Y2xpZW50MToxMjM=\"}\n",
    "r=requests.get(url=url, headers=headers)\n",
    "print(r.cookies.values()[0])\n",
    "headers={\"Cookie\":'session-id='+r.cookies.values()[0]}\n",
    "q=requests.get('http://localhost:8080/',headers=headers)\n",
    "print(q)\n",
    "# print(q.cookies)"
   ]
  },
  {
   "cell_type": "code",
   "execution_count": 30,
   "metadata": {
    "collapsed": false,
    "ExecuteTime": {
     "end_time": "2023-12-29T12:24:12.846316300Z",
     "start_time": "2023-12-29T12:24:12.732620900Z"
    }
   },
   "outputs": [
    {
     "name": "stdout",
     "output_type": "stream",
     "text": [
      "<Response [200]>\n"
     ]
    }
   ],
   "source": [
    "#5\n",
    "headers={\"Authorization\": \"Basic Y2xpZW50MToxMjM=\"}\n",
    "r=requests.get(url='http://127.0.0.1:8080/client1/HttpServer.py?chunked=1', headers=headers)\n",
    "print(r)"
   ]
  },
  {
   "cell_type": "code",
   "execution_count": 34,
   "metadata": {
    "collapsed": false,
    "ExecuteTime": {
     "end_time": "2023-12-29T12:26:42.664321300Z",
     "start_time": "2023-12-29T12:26:42.613456900Z"
    }
   },
   "outputs": [
    {
     "name": "stdout",
     "output_type": "stream",
     "text": [
      "--9d07de9f86034\r\n",
      "Content-Type: text/plain\r\n",
      "Content-Range: bytes 1-2/42\r\n",
      "\r\n",
      "b'.1'\r\n",
      "--9d07de9f86034\r\n",
      "Content-Type: text/plain\r\n",
      "Content-Range: bytes 6-10/42\r\n",
      "\r\n",
      "b'st po'\r\n",
      "--9d07de9f86034\r\n",
      "Content-Type: text/plain\r\n",
      "Content-Range: bytes 38-41/42\r\n",
      "\r\n",
      "b'2222'\r\n",
      "--9d07de9f86034--\r\n",
      "\n"
     ]
    }
   ],
   "source": [
    "#Breakpoint Transmission\n",
    "url='http://127.0.0.1:8080/client1/a.txt'\n",
    "\n",
    "data={}\n",
    "headers={\"Authorization\": \"Basic Y2xpZW50MToxMjM=\",\n",
    "         \"Range\": \"bytes=1-2,-4,6-10\"}\n",
    "r=requests.get(url=url, data=data, headers=headers)\n",
    "\n",
    "print(r.content.decode())"
   ]
  },
  {
   "cell_type": "code",
   "execution_count": null,
   "metadata": {},
   "outputs": [],
   "source": []
  },
  {
   "cell_type": "code",
   "execution_count": null,
   "metadata": {},
   "outputs": [],
   "source": []
  }
 ],
 "metadata": {
  "kernelspec": {
   "display_name": "Python 3",
   "language": "python",
   "name": "python3"
  },
  "language_info": {
   "codemirror_mode": {
    "name": "ipython",
    "version": 3
   },
   "file_extension": ".py",
   "mimetype": "text/x-python",
   "name": "python",
   "nbconvert_exporter": "python",
   "pygments_lexer": "ipython3",
   "version": "3.11.3"
  }
 },
 "nbformat": 4,
 "nbformat_minor": 0
}
